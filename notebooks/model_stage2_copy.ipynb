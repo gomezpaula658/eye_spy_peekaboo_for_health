{
 "cells": [
  {
   "cell_type": "code",
   "execution_count": 1,
   "metadata": {},
   "outputs": [],
   "source": [
    "%load_ext autoreload\n",
    "%autoreload 2\n"
   ]
  },
  {
   "cell_type": "code",
   "execution_count": 9,
   "metadata": {},
   "outputs": [],
   "source": [
    "import os\n",
    "import pandas as pd\n",
    "import numpy as np\n",
    "import matplotlib.pyplot as plt\n",
    "from sklearn.model_selection import train_test_split\n",
    "import tensorflow as tf\n",
    "from tensorflow import keras\n",
    "from tensorflow.keras.preprocessing.image import load_img\n",
    "from tensorflow.keras.utils import to_categorical, img_to_array\n",
    "from tensorflow.keras.models import Sequential, Model\n",
    "from tensorflow.keras.layers import Dense, Conv2D, Flatten, MaxPooling2D, Input, concatenate\n",
    "from tensorflow.keras.callbacks import EarlyStopping\n",
    "from ml_logic.preprocessor import data_balancing, create_model, load_and_preprocess_image, image_augmentation, disease_categorization, num_cols, create_model_stage2, disease_cat_eval\n",
    "from tensorflow.keras.applications.vgg16 import VGG16, preprocess_input\n"
   ]
  },
  {
   "cell_type": "code",
   "execution_count": 3,
   "metadata": {},
   "outputs": [],
   "source": [
    "# Loading Datasets\n",
    "\n",
    "train = pd.read_csv('../data/RFMiD_Training_Labels.csv').set_index('ID')\n",
    "test = pd.read_csv('../data/RFMiD_Testing_Labels.csv').set_index('ID')\n",
    "eval = pd.read_csv('../data/RFMiD_Validation_Labels.csv').set_index('ID')\n"
   ]
  },
  {
   "cell_type": "code",
   "execution_count": 4,
   "metadata": {},
   "outputs": [],
   "source": [
    "# Splitting Data\n",
    "\n",
    "X_train = disease_categorization(table_link='../data/RFMiD_Training_Labels.csv')\n",
    "y_train = X_train\n",
    "X_eval  = disease_cat_eval(table_link='../data/RFMiD_Validation_Labels.csv', disease_cat_df=X_train)\n",
    "y_eval = X_eval\n"
   ]
  },
  {
   "cell_type": "code",
   "execution_count": 24,
   "metadata": {},
   "outputs": [],
   "source": [
    "def load_image(image_id, image_folder, target_size=(224, 224)):\n",
    "    \"\"\"\n",
    "    Load and preprocess an image given its ID.\n",
    "    \"\"\"\n",
    "    image_path = os.path.join(image_folder, f'{image_id}.png')\n",
    "    image = load_img(image_path, target_size=target_size)\n",
    "    image = img_to_array(image)\n",
    "    return image\n"
   ]
  },
  {
   "cell_type": "code",
   "execution_count": 25,
   "metadata": {},
   "outputs": [
    {
     "ename": "KeyboardInterrupt",
     "evalue": "",
     "output_type": "error",
     "traceback": [
      "\u001b[0;31m---------------------------------------------------------------------------\u001b[0m",
      "\u001b[0;31mKeyboardInterrupt\u001b[0m                         Traceback (most recent call last)",
      "\u001b[1;32m/home/saeed/code/eye_spy_peekaboo_for_health/eye_spy_peekaboo_for_health/notebooks/model_stage2.ipynb Cell 9\u001b[0m line \u001b[0;36m7\n\u001b[1;32m      <a href='vscode-notebook-cell://wsl%2Bubuntu/home/saeed/code/eye_spy_peekaboo_for_health/eye_spy_peekaboo_for_health/notebooks/model_stage2.ipynb#W5sdnNjb2RlLXJlbW90ZQ%3D%3D?line=3'>4</a>\u001b[0m eval_image_folder \u001b[39m=\u001b[39m \u001b[39m'\u001b[39m\u001b[39m../data/eval_images\u001b[39m\u001b[39m'\u001b[39m\n\u001b[1;32m      <a href='vscode-notebook-cell://wsl%2Bubuntu/home/saeed/code/eye_spy_peekaboo_for_health/eye_spy_peekaboo_for_health/notebooks/model_stage2.ipynb#W5sdnNjb2RlLXJlbW90ZQ%3D%3D?line=4'>5</a>\u001b[0m \u001b[39m# images = np.array([load_and_preprocess_image(row_id, image_folder) for row_id in X_train.index])\u001b[39;00m\n\u001b[1;32m      <a href='vscode-notebook-cell://wsl%2Bubuntu/home/saeed/code/eye_spy_peekaboo_for_health/eye_spy_peekaboo_for_health/notebooks/model_stage2.ipynb#W5sdnNjb2RlLXJlbW90ZQ%3D%3D?line=5'>6</a>\u001b[0m \u001b[39m# eval_images = np.array([load_and_preprocess_image(row_id, eval_image_folder) for row_id in X_eval.index])\u001b[39;00m\n\u001b[0;32m----> <a href='vscode-notebook-cell://wsl%2Bubuntu/home/saeed/code/eye_spy_peekaboo_for_health/eye_spy_peekaboo_for_health/notebooks/model_stage2.ipynb#W5sdnNjb2RlLXJlbW90ZQ%3D%3D?line=6'>7</a>\u001b[0m images \u001b[39m=\u001b[39m np\u001b[39m.\u001b[39marray([load_image(row_id,image_folder) \u001b[39mfor\u001b[39;00m row_id \u001b[39min\u001b[39;00m X_train\u001b[39m.\u001b[39mindex])\n\u001b[1;32m      <a href='vscode-notebook-cell://wsl%2Bubuntu/home/saeed/code/eye_spy_peekaboo_for_health/eye_spy_peekaboo_for_health/notebooks/model_stage2.ipynb#W5sdnNjb2RlLXJlbW90ZQ%3D%3D?line=7'>8</a>\u001b[0m eval_images \u001b[39m=\u001b[39m np\u001b[39m.\u001b[39marray([load_image(row_id,eval_image_folder) \u001b[39mfor\u001b[39;00m row_id \u001b[39min\u001b[39;00m X_eval\u001b[39m.\u001b[39mindex])\n",
      "\u001b[1;32m/home/saeed/code/eye_spy_peekaboo_for_health/eye_spy_peekaboo_for_health/notebooks/model_stage2.ipynb Cell 9\u001b[0m line \u001b[0;36m7\n\u001b[1;32m      <a href='vscode-notebook-cell://wsl%2Bubuntu/home/saeed/code/eye_spy_peekaboo_for_health/eye_spy_peekaboo_for_health/notebooks/model_stage2.ipynb#W5sdnNjb2RlLXJlbW90ZQ%3D%3D?line=3'>4</a>\u001b[0m eval_image_folder \u001b[39m=\u001b[39m \u001b[39m'\u001b[39m\u001b[39m../data/eval_images\u001b[39m\u001b[39m'\u001b[39m\n\u001b[1;32m      <a href='vscode-notebook-cell://wsl%2Bubuntu/home/saeed/code/eye_spy_peekaboo_for_health/eye_spy_peekaboo_for_health/notebooks/model_stage2.ipynb#W5sdnNjb2RlLXJlbW90ZQ%3D%3D?line=4'>5</a>\u001b[0m \u001b[39m# images = np.array([load_and_preprocess_image(row_id, image_folder) for row_id in X_train.index])\u001b[39;00m\n\u001b[1;32m      <a href='vscode-notebook-cell://wsl%2Bubuntu/home/saeed/code/eye_spy_peekaboo_for_health/eye_spy_peekaboo_for_health/notebooks/model_stage2.ipynb#W5sdnNjb2RlLXJlbW90ZQ%3D%3D?line=5'>6</a>\u001b[0m \u001b[39m# eval_images = np.array([load_and_preprocess_image(row_id, eval_image_folder) for row_id in X_eval.index])\u001b[39;00m\n\u001b[0;32m----> <a href='vscode-notebook-cell://wsl%2Bubuntu/home/saeed/code/eye_spy_peekaboo_for_health/eye_spy_peekaboo_for_health/notebooks/model_stage2.ipynb#W5sdnNjb2RlLXJlbW90ZQ%3D%3D?line=6'>7</a>\u001b[0m images \u001b[39m=\u001b[39m np\u001b[39m.\u001b[39marray([load_image(row_id,image_folder) \u001b[39mfor\u001b[39;00m row_id \u001b[39min\u001b[39;00m X_train\u001b[39m.\u001b[39mindex])\n\u001b[1;32m      <a href='vscode-notebook-cell://wsl%2Bubuntu/home/saeed/code/eye_spy_peekaboo_for_health/eye_spy_peekaboo_for_health/notebooks/model_stage2.ipynb#W5sdnNjb2RlLXJlbW90ZQ%3D%3D?line=7'>8</a>\u001b[0m eval_images \u001b[39m=\u001b[39m np\u001b[39m.\u001b[39marray([load_image(row_id,eval_image_folder) \u001b[39mfor\u001b[39;00m row_id \u001b[39min\u001b[39;00m X_eval\u001b[39m.\u001b[39mindex])\n",
      "\u001b[1;32m/home/saeed/code/eye_spy_peekaboo_for_health/eye_spy_peekaboo_for_health/notebooks/model_stage2.ipynb Cell 9\u001b[0m line \u001b[0;36m6\n\u001b[1;32m      <a href='vscode-notebook-cell://wsl%2Bubuntu/home/saeed/code/eye_spy_peekaboo_for_health/eye_spy_peekaboo_for_health/notebooks/model_stage2.ipynb#W5sdnNjb2RlLXJlbW90ZQ%3D%3D?line=1'>2</a>\u001b[0m \u001b[39m\u001b[39m\u001b[39m\"\"\"\u001b[39;00m\n\u001b[1;32m      <a href='vscode-notebook-cell://wsl%2Bubuntu/home/saeed/code/eye_spy_peekaboo_for_health/eye_spy_peekaboo_for_health/notebooks/model_stage2.ipynb#W5sdnNjb2RlLXJlbW90ZQ%3D%3D?line=2'>3</a>\u001b[0m \u001b[39mLoad and preprocess an image given its ID.\u001b[39;00m\n\u001b[1;32m      <a href='vscode-notebook-cell://wsl%2Bubuntu/home/saeed/code/eye_spy_peekaboo_for_health/eye_spy_peekaboo_for_health/notebooks/model_stage2.ipynb#W5sdnNjb2RlLXJlbW90ZQ%3D%3D?line=3'>4</a>\u001b[0m \u001b[39m\"\"\"\u001b[39;00m\n\u001b[1;32m      <a href='vscode-notebook-cell://wsl%2Bubuntu/home/saeed/code/eye_spy_peekaboo_for_health/eye_spy_peekaboo_for_health/notebooks/model_stage2.ipynb#W5sdnNjb2RlLXJlbW90ZQ%3D%3D?line=4'>5</a>\u001b[0m image_path \u001b[39m=\u001b[39m os\u001b[39m.\u001b[39mpath\u001b[39m.\u001b[39mjoin(image_folder, \u001b[39mf\u001b[39m\u001b[39m'\u001b[39m\u001b[39m{\u001b[39;00mimage_id\u001b[39m}\u001b[39;00m\u001b[39m.png\u001b[39m\u001b[39m'\u001b[39m)\n\u001b[0;32m----> <a href='vscode-notebook-cell://wsl%2Bubuntu/home/saeed/code/eye_spy_peekaboo_for_health/eye_spy_peekaboo_for_health/notebooks/model_stage2.ipynb#W5sdnNjb2RlLXJlbW90ZQ%3D%3D?line=5'>6</a>\u001b[0m image \u001b[39m=\u001b[39m load_img(image_path, target_size\u001b[39m=\u001b[39;49mtarget_size)\n\u001b[1;32m      <a href='vscode-notebook-cell://wsl%2Bubuntu/home/saeed/code/eye_spy_peekaboo_for_health/eye_spy_peekaboo_for_health/notebooks/model_stage2.ipynb#W5sdnNjb2RlLXJlbW90ZQ%3D%3D?line=6'>7</a>\u001b[0m image \u001b[39m=\u001b[39m img_to_array(image)\n\u001b[1;32m      <a href='vscode-notebook-cell://wsl%2Bubuntu/home/saeed/code/eye_spy_peekaboo_for_health/eye_spy_peekaboo_for_health/notebooks/model_stage2.ipynb#W5sdnNjb2RlLXJlbW90ZQ%3D%3D?line=7'>8</a>\u001b[0m \u001b[39mreturn\u001b[39;00m image\n",
      "File \u001b[0;32m~/.pyenv/versions/3.10.6/lib/python3.10/site-packages/keras/utils/image_utils.py:480\u001b[0m, in \u001b[0;36mload_img\u001b[0;34m(path, grayscale, color_mode, target_size, interpolation, keep_aspect_ratio)\u001b[0m\n\u001b[1;32m    478\u001b[0m             img \u001b[39m=\u001b[39m img\u001b[39m.\u001b[39mresize(width_height_tuple, resample, box\u001b[39m=\u001b[39mcrop_box)\n\u001b[1;32m    479\u001b[0m         \u001b[39melse\u001b[39;00m:\n\u001b[0;32m--> 480\u001b[0m             img \u001b[39m=\u001b[39m img\u001b[39m.\u001b[39;49mresize(width_height_tuple, resample)\n\u001b[1;32m    481\u001b[0m \u001b[39mreturn\u001b[39;00m img\n",
      "File \u001b[0;32m~/.pyenv/versions/3.10.6/envs/eye_spy_peekaboo_for_health/lib/python3.10/site-packages/PIL/Image.py:2163\u001b[0m, in \u001b[0;36mImage.resize\u001b[0;34m(self, size, resample, box, reducing_gap)\u001b[0m\n\u001b[1;32m   2159\u001b[0m     \u001b[39mraise\u001b[39;00m \u001b[39mValueError\u001b[39;00m(msg)\n\u001b[1;32m   2161\u001b[0m size \u001b[39m=\u001b[39m \u001b[39mtuple\u001b[39m(size)\n\u001b[0;32m-> 2163\u001b[0m \u001b[39mself\u001b[39;49m\u001b[39m.\u001b[39;49mload()\n\u001b[1;32m   2164\u001b[0m \u001b[39mif\u001b[39;00m box \u001b[39mis\u001b[39;00m \u001b[39mNone\u001b[39;00m:\n\u001b[1;32m   2165\u001b[0m     box \u001b[39m=\u001b[39m (\u001b[39m0\u001b[39m, \u001b[39m0\u001b[39m) \u001b[39m+\u001b[39m \u001b[39mself\u001b[39m\u001b[39m.\u001b[39msize\n",
      "File \u001b[0;32m~/.pyenv/versions/3.10.6/envs/eye_spy_peekaboo_for_health/lib/python3.10/site-packages/PIL/ImageFile.py:269\u001b[0m, in \u001b[0;36mImageFile.load\u001b[0;34m(self)\u001b[0m\n\u001b[1;32m    266\u001b[0m         \u001b[39mraise\u001b[39;00m \u001b[39mOSError\u001b[39;00m(msg)\n\u001b[1;32m    268\u001b[0m b \u001b[39m=\u001b[39m b \u001b[39m+\u001b[39m s\n\u001b[0;32m--> 269\u001b[0m n, err_code \u001b[39m=\u001b[39m decoder\u001b[39m.\u001b[39;49mdecode(b)\n\u001b[1;32m    270\u001b[0m \u001b[39mif\u001b[39;00m n \u001b[39m<\u001b[39m \u001b[39m0\u001b[39m:\n\u001b[1;32m    271\u001b[0m     \u001b[39mbreak\u001b[39;00m\n",
      "\u001b[0;31mKeyboardInterrupt\u001b[0m: "
     ]
    }
   ],
   "source": [
    "# Loading Images\n",
    "\n",
    "image_folder = '../data/training_images'\n",
    "eval_image_folder = '../data/eval_images'\n",
    "# images = np.array([load_and_preprocess_image(row_id, image_folder) for row_id in X_train.index])\n",
    "# eval_images = np.array([load_and_preprocess_image(row_id, eval_image_folder) for row_id in X_eval.index])\n",
    "images = np.array([load_image(row_id,image_folder) for row_id in X_train.index])\n",
    "eval_images = np.array([load_image(row_id,eval_image_folder) for row_id in X_eval.index])\n"
   ]
  },
  {
   "cell_type": "code",
   "execution_count": 10,
   "metadata": {},
   "outputs": [
    {
     "name": "stderr",
     "output_type": "stream",
     "text": [
      "2023-12-05 19:04:41.896235: W tensorflow/stream_executor/platform/default/dso_loader.cc:64] Could not load dynamic library 'libcuda.so.1'; dlerror: libcuda.so.1: cannot open shared object file: No such file or directory\n",
      "2023-12-05 19:04:41.898421: W tensorflow/stream_executor/cuda/cuda_driver.cc:263] failed call to cuInit: UNKNOWN ERROR (303)\n",
      "2023-12-05 19:04:41.900690: I tensorflow/stream_executor/cuda/cuda_diagnostics.cc:156] kernel driver does not appear to be running on this host (LAPTOP-R72GEULP): /proc/driver/nvidia/version does not exist\n",
      "2023-12-05 19:04:41.913132: I tensorflow/core/platform/cpu_feature_guard.cc:193] This TensorFlow binary is optimized with oneAPI Deep Neural Network Library (oneDNN) to use the following CPU instructions in performance-critical operations:  AVX2 FMA\n",
      "To enable them in other operations, rebuild TensorFlow with the appropriate compiler flags.\n",
      "2023-12-05 19:04:42.084477: W tensorflow/core/framework/cpu_allocator_impl.cc:82] Allocation of 638840832 exceeds 10% of free system memory.\n"
     ]
    },
    {
     "name": "stdout",
     "output_type": "stream",
     "text": [
      "WARNING:tensorflow:Using a while_loop for converting RngReadAndSkip cause there is no registered converter for this op.\n",
      "WARNING:tensorflow:Using a while_loop for converting Bitcast cause there is no registered converter for this op.\n",
      "WARNING:tensorflow:Using a while_loop for converting Bitcast cause there is no registered converter for this op.\n",
      "WARNING:tensorflow:Using a while_loop for converting StatelessRandomUniformV2 cause there is no registered converter for this op.\n",
      "WARNING:tensorflow:Using a while_loop for converting ImageProjectiveTransformV3 cause there is no registered converter for this op.\n",
      "WARNING:tensorflow:Using a while_loop for converting RngReadAndSkip cause there is no registered converter for this op.\n",
      "WARNING:tensorflow:Using a while_loop for converting Bitcast cause there is no registered converter for this op.\n",
      "WARNING:tensorflow:Using a while_loop for converting Bitcast cause there is no registered converter for this op.\n",
      "WARNING:tensorflow:Using a while_loop for converting StatelessRandomUniformV2 cause there is no registered converter for this op.\n",
      "WARNING:tensorflow:Using a while_loop for converting RngReadAndSkip cause there is no registered converter for this op.\n",
      "WARNING:tensorflow:Using a while_loop for converting Bitcast cause there is no registered converter for this op.\n",
      "WARNING:tensorflow:Using a while_loop for converting Bitcast cause there is no registered converter for this op.\n",
      "WARNING:tensorflow:Using a while_loop for converting StatelessRandomUniformV2 cause there is no registered converter for this op.\n",
      "WARNING:tensorflow:Using a while_loop for converting RngReadAndSkip cause there is no registered converter for this op.\n",
      "WARNING:tensorflow:Using a while_loop for converting Bitcast cause there is no registered converter for this op.\n",
      "WARNING:tensorflow:Using a while_loop for converting Bitcast cause there is no registered converter for this op.\n",
      "WARNING:tensorflow:Using a while_loop for converting StatelessRandomUniformV2 cause there is no registered converter for this op.\n",
      "WARNING:tensorflow:Using a while_loop for converting ImageProjectiveTransformV3 cause there is no registered converter for this op.\n"
     ]
    },
    {
     "name": "stderr",
     "output_type": "stream",
     "text": [
      "2023-12-05 19:04:56.584696: W tensorflow/core/framework/cpu_allocator_impl.cc:82] Allocation of 638840832 exceeds 10% of free system memory.\n"
     ]
    },
    {
     "name": "stdout",
     "output_type": "stream",
     "text": [
      "WARNING:tensorflow:Using a while_loop for converting RngReadAndSkip cause there is no registered converter for this op.\n",
      "WARNING:tensorflow:Using a while_loop for converting Bitcast cause there is no registered converter for this op.\n",
      "WARNING:tensorflow:Using a while_loop for converting Bitcast cause there is no registered converter for this op.\n",
      "WARNING:tensorflow:Using a while_loop for converting StatelessRandomUniformV2 cause there is no registered converter for this op.\n",
      "WARNING:tensorflow:Using a while_loop for converting ImageProjectiveTransformV3 cause there is no registered converter for this op.\n"
     ]
    },
    {
     "name": "stderr",
     "output_type": "stream",
     "text": [
      "2023-12-05 19:05:16.829749: W tensorflow/core/framework/cpu_allocator_impl.cc:82] Allocation of 638840832 exceeds 10% of free system memory.\n"
     ]
    },
    {
     "ename": "",
     "evalue": "",
     "output_type": "error",
     "traceback": [
      "\u001b[1;31mThe Kernel crashed while executing code in the the current cell or a previous cell. Please review the code in the cell(s) to identify a possible cause of the failure. Click <a href='https://aka.ms/vscodeJupyterKernelCrash'>here</a> for more info. View Jupyter <a href='command:jupyter.viewOutput'>log</a> for further details."
     ]
    }
   ],
   "source": [
    "# Augment Images\n",
    "\n",
    "augmented_images = image_augmentation(images)\n",
    "augmented_eval_images = image_augmentation(eval_images)\n",
    "print(augmented_images.shape)\n",
    "print(augmented_eval_images.shape)\n",
    "\n",
    "plt.imshow(augmented_images[0])\n",
    "plt.imshow(augmented_eval_images[0])\n"
   ]
  },
  {
   "cell_type": "markdown",
   "metadata": {},
   "source": [
    "when comiling, it's categorical cross entropy instead of binary cross entropy"
   ]
  },
  {
   "cell_type": "code",
   "execution_count": 7,
   "metadata": {},
   "outputs": [
    {
     "name": "stderr",
     "output_type": "stream",
     "text": [
      "2023-12-09 15:20:39.924891: W tensorflow/stream_executor/platform/default/dso_loader.cc:64] Could not load dynamic library 'libcuda.so.1'; dlerror: libcuda.so.1: cannot open shared object file: No such file or directory\n",
      "2023-12-09 15:20:39.926361: W tensorflow/stream_executor/cuda/cuda_driver.cc:263] failed call to cuInit: UNKNOWN ERROR (303)\n",
      "2023-12-09 15:20:39.927930: I tensorflow/stream_executor/cuda/cuda_diagnostics.cc:156] kernel driver does not appear to be running on this host (LAPTOP-R72GEULP): /proc/driver/nvidia/version does not exist\n",
      "2023-12-09 15:20:39.944245: I tensorflow/core/platform/cpu_feature_guard.cc:193] This TensorFlow binary is optimized with oneAPI Deep Neural Network Library (oneDNN) to use the following CPU instructions in performance-critical operations:  AVX2 FMA\n",
      "To enable them in other operations, rebuild TensorFlow with the appropriate compiler flags.\n"
     ]
    },
    {
     "name": "stdout",
     "output_type": "stream",
     "text": [
      "Downloading data from https://storage.googleapis.com/tensorflow/keras-applications/vgg16/vgg16_weights_tf_dim_ordering_tf_kernels_notop.h5\n",
      "58889256/58889256 [==============================] - 8s 0us/step\n"
     ]
    }
   ],
   "source": [
    "base_model = VGG16(weights = \"imagenet\", include_top = False, input_shape = (224, 224, 3))\n"
   ]
  },
  {
   "cell_type": "code",
   "execution_count": 17,
   "metadata": {},
   "outputs": [],
   "source": [
    "# NEW MODEL\n",
    "\n",
    "image_input = tf.keras.layers.Input(shape=(224, 224, 3))\n",
    "#x = data_augmentation(image_input) # We still have our data augmentation layers\n",
    "x = preprocess_input(image_input) # Then a preprocessing layer specifically designed for the VGG16\n",
    "x = base_model(x) # Then our transfer learning model\n",
    "# x = Conv2D(64, (3, 3), activation=‘relu’, padding = “same”)(x)\n",
    "# x = MaxPooling2D((2, 2),padding = “same”)(x)\n",
    "# x = Conv2D(32, (3, 3), activation=‘relu’, padding = “same”)(x)\n",
    "# x = MaxPooling2D((2, 2),padding = “same”)(x)\n",
    "x = Conv2D(1024, (3, 3), activation='relu', padding = \"same\")(x)\n",
    "x = MaxPooling2D((2, 2),padding = \"same\")(x)\n",
    "x = Flatten()(x)\n",
    "z = Dense(64, activation='relu')(x)\n",
    "#z = layers.Dropout(0.3)(z)\n",
    "z = Dense(32, activation='relu')(z)\n",
    "#z = layers.Dropout(0.3)(z)\n",
    "z = Dense(5, activation='softmax')(z)\n",
    "model_test1 = Model(inputs=image_input, outputs=z)\n",
    "# And we freeze the VGG16 model\n",
    "base_model.trainable = False\n"
   ]
  },
  {
   "cell_type": "code",
   "execution_count": 18,
   "metadata": {},
   "outputs": [],
   "source": [
    "optimizer = tf.keras.optimizers.legacy.Adam(learning_rate=0.001)\n"
   ]
  },
  {
   "cell_type": "code",
   "execution_count": 19,
   "metadata": {},
   "outputs": [],
   "source": [
    "model_test1.compile(optimizer=optimizer, loss='categorical_crossentropy', metrics=['Precision', 'accuracy'])\n"
   ]
  },
  {
   "cell_type": "code",
   "execution_count": 23,
   "metadata": {},
   "outputs": [
    {
     "ename": "NameError",
     "evalue": "name 'augmented_images' is not defined",
     "output_type": "error",
     "traceback": [
      "\u001b[0;31m---------------------------------------------------------------------------\u001b[0m",
      "\u001b[0;31mNameError\u001b[0m                                 Traceback (most recent call last)",
      "\u001b[1;32m/home/saeed/code/eye_spy_peekaboo_for_health/eye_spy_peekaboo_for_health/notebooks/model_stage2.ipynb Cell 28\u001b[0m line \u001b[0;36m2\n\u001b[1;32m      <a href='vscode-notebook-cell://wsl%2Bubuntu/home/saeed/code/eye_spy_peekaboo_for_health/eye_spy_peekaboo_for_health/notebooks/model_stage2.ipynb#X32sdnNjb2RlLXJlbW90ZQ%3D%3D?line=0'>1</a>\u001b[0m history3 \u001b[39m=\u001b[39m model_test1\u001b[39m.\u001b[39mfit(\n\u001b[0;32m----> <a href='vscode-notebook-cell://wsl%2Bubuntu/home/saeed/code/eye_spy_peekaboo_for_health/eye_spy_peekaboo_for_health/notebooks/model_stage2.ipynb#X32sdnNjb2RlLXJlbW90ZQ%3D%3D?line=1'>2</a>\u001b[0m     augmented_images, y_train,\n\u001b[1;32m      <a href='vscode-notebook-cell://wsl%2Bubuntu/home/saeed/code/eye_spy_peekaboo_for_health/eye_spy_peekaboo_for_health/notebooks/model_stage2.ipynb#X32sdnNjb2RlLXJlbW90ZQ%3D%3D?line=2'>3</a>\u001b[0m     validation_data\u001b[39m=\u001b[39m(augmented_eval_images, y_eval),\n\u001b[1;32m      <a href='vscode-notebook-cell://wsl%2Bubuntu/home/saeed/code/eye_spy_peekaboo_for_health/eye_spy_peekaboo_for_health/notebooks/model_stage2.ipynb#X32sdnNjb2RlLXJlbW90ZQ%3D%3D?line=3'>4</a>\u001b[0m     epochs\u001b[39m=\u001b[39m\u001b[39m50\u001b[39m,\n\u001b[1;32m      <a href='vscode-notebook-cell://wsl%2Bubuntu/home/saeed/code/eye_spy_peekaboo_for_health/eye_spy_peekaboo_for_health/notebooks/model_stage2.ipynb#X32sdnNjb2RlLXJlbW90ZQ%3D%3D?line=4'>5</a>\u001b[0m     batch_size\u001b[39m=\u001b[39m\u001b[39m32\u001b[39m,\n\u001b[1;32m      <a href='vscode-notebook-cell://wsl%2Bubuntu/home/saeed/code/eye_spy_peekaboo_for_health/eye_spy_peekaboo_for_health/notebooks/model_stage2.ipynb#X32sdnNjb2RlLXJlbW90ZQ%3D%3D?line=5'>6</a>\u001b[0m     callbacks\u001b[39m=\u001b[39m[es2, LRreducer]\n\u001b[1;32m      <a href='vscode-notebook-cell://wsl%2Bubuntu/home/saeed/code/eye_spy_peekaboo_for_health/eye_spy_peekaboo_for_health/notebooks/model_stage2.ipynb#X32sdnNjb2RlLXJlbW90ZQ%3D%3D?line=6'>7</a>\u001b[0m )\n",
      "\u001b[0;31mNameError\u001b[0m: name 'augmented_images' is not defined"
     ]
    }
   ],
   "source": [
    "history3 = model_test1.fit(\n",
    "    augmented_images, y_train,\n",
    "    validation_data=(augmented_eval_images, y_eval),\n",
    "    epochs=50,\n",
    "    batch_size=32,\n",
    "    callbacks=[es2, LRreducer]\n",
    ")\n"
   ]
  },
  {
   "cell_type": "code",
   "execution_count": null,
   "metadata": {},
   "outputs": [],
   "source": []
  }
 ],
 "metadata": {
  "kernelspec": {
   "display_name": "Python 3",
   "language": "python",
   "name": "python3"
  },
  "language_info": {
   "codemirror_mode": {
    "name": "ipython",
    "version": 3
   },
   "file_extension": ".py",
   "mimetype": "text/x-python",
   "name": "python",
   "nbconvert_exporter": "python",
   "pygments_lexer": "ipython3",
   "version": "3.10.6"
  }
 },
 "nbformat": 4,
 "nbformat_minor": 2
}
